{
 "cells": [
  {
   "cell_type": "code",
   "execution_count": 1,
   "id": "63ef1545-c592-4664-a284-16c460523da6",
   "metadata": {},
   "outputs": [],
   "source": [
    "from datasets import load_from_disk\n",
    "import pandas as pd\n",
    "import json\n"
   ]
  },
  {
   "cell_type": "code",
   "execution_count": 2,
   "id": "fb5affa5-b4f7-4a7c-a9d6-8a1c9d399eb6",
   "metadata": {},
   "outputs": [],
   "source": [
    "def load_data(path):\n",
    "    dataset_train = load_from_disk(path + \"/train\")\n",
    "    dataset_test = load_from_disk(path + \"/test\")\n",
    "    dataset_val = load_from_disk(path + \"/validation\")\n",
    "    train_data = pd.DataFrame(dataset_train)\n",
    "    val_data = pd.DataFrame(dataset_val)\n",
    "    test_data = pd.DataFrame(dataset_test)\n",
    "    \n",
    "    return train_data, val_data, test_data"
   ]
  },
  {
   "cell_type": "code",
   "execution_count": 49,
   "id": "9a99c0b9-20ad-453b-837c-3458063aedbb",
   "metadata": {},
   "outputs": [],
   "source": [
    "def format_add_instruction(path, ins_type):\n",
    "    train_data, val_data, test_data = load_data(path)\n",
    "    train_data[\"start_date\"] = pd.to_datetime(train_data[\"start_date\"]).dt.strftime('%Y-%m-%d') \n",
    "    train_data[\"end_date\"] = pd.to_datetime(train_data[\"end_date\"]).dt.strftime('%Y-%m-%d')\n",
    "    val_data[\"start_date\"] = pd.to_datetime(val_data[\"start_date\"]).dt.strftime('%Y-%m-%d') \n",
    "    val_data[\"end_date\"] = pd.to_datetime(val_data[\"end_date\"]).dt.strftime('%Y-%m-%d')\n",
    "    test_data[\"start_date\"] = pd.to_datetime(test_data[\"start_date\"]).dt.strftime('%Y-%m-%d') \n",
    "    test_data[\"end_date\"] = pd.to_datetime(test_data[\"end_date\"]).dt.strftime('%Y-%m-%d') \n",
    "    if ins_type == 0:\n",
    "        train_data['Instruction']= \"Source UCDP document\"\n",
    "        val_data['Instruction']= \"Source UCDP document\"\n",
    "        test_data['Instruction']= \"Source UCDP document\"\n",
    "    elif ins_type == 1:\n",
    "        train_data['Instruction']= \"Generate the correct UCDP event information in JSON format for the incident of armed conflict described in the following source UCDP document:\"\n",
    "        val_data['Instruction']= \"Generate the correct UCDP event information in JSON format for the incident of armed conflict described in the following source UCDP document:\"\n",
    "        test_data['Instruction']= \"Generate the correct UCDP event information in JSON format for the incident of armed conflict described in the following source UCDP document:\"\n",
    "    elif ins_type == 2:\n",
    "        train_data['Instruction']= \"Generate structured event information related to a socio-political conflict in the UCDP event format, based on the content of a source UCDP document. The generated data should include the following fields: {side_a_name, side_b_name, start_date, end_date, location_root_name, location_adm1_name, location_adm2_name, location_where_name, deaths_side_a, deaths_side_b, deaths_civilian, deaths_unknown, deaths_low, deaths_high}. Output the event information as a valid JSON object corresponding to the armed conflict incident described in the following source UCDP document:\"\n",
    "        val_data['Instruction']= \"Generate structured event information related to a socio-political conflict in the UCDP event format, based on the content of a source UCDP document. The generated data should include the following fields: {side_a_name, side_b_name, start_date, end_date, location_root_name, location_adm1_name, location_adm2_name, location_where_name, deaths_side_a, deaths_side_b, deaths_civilian, deaths_unknown, deaths_low, deaths_high}. Output the event information as a valid JSON object corresponding to the armed conflict incident described in the following source UCDP document:\"\n",
    "        test_data['Instruction']= \"Generate structured event information related to a socio-political conflict in the UCDP event format, based on the content of a source UCDP document. The generated data should include the following fields: {side_a_name, side_b_name, start_date, end_date, location_root_name, location_adm1_name, location_adm2_name, location_where_name, deaths_side_a, deaths_side_b, deaths_civilian, deaths_unknown, deaths_low, deaths_high}. Output the event information as a valid JSON object corresponding to the armed conflict incident described in the following source UCDP document:\"\n",
    "    elif ins_type == 3:\n",
    "        train_data['Instruction']= '\"Generate structured event information related to a socio-political conflict in the UCDP event format, based on the content of a source UCDP document. The generated data should include the following fields: {\"side_a_name\": \"Actor side A, a party involved in the conflict, which may be a government of a state or an organized non-governmental group.\", \"side_b_name\": \"Actor side B, a party involved in the conflict, which may be a government of a state, an organized non-governmental group, or civilians.\", \"start_date\": \"The earliest likely date when the event has taken place.\", \"end_date\": \"The last likely date when the event has taken place.\", \"location_root_name\": \"The country where the event took place.\", \"location_adm1_name\": \"The region where the event took place.\", \"location_adm2_name\": \"The sub-region where the event took place.\", \"location_where_name\": \"A fine-grained description of the location where the event took place.\", \"deaths_side_a\": \"The best estimate of fatalities in Actor side A.\", \"deaths_side_b\": \"The best estimate of fatalities in Actor side B.\", \"deaths_civilian\": \"Number of civilian fatalities.\", \"deaths_unknown\": \"The best estimate of fatalities of persons of uncertain affiliation.\", \"deaths_low\": \"The most conservative estimate of deaths identified in the source text.\", \"deaths_high\": \"The highest reliable estimate of deaths identified in the source text.\"}. Output the event information as a valid JSON object corresponding to the armed conflict incident described in the following source UCDP document:\"'\n",
    "        val_data['Instruction']= '\"Generate structured event information related to a socio-political conflict in the UCDP event format, based on the content of a source UCDP document. The generated data should include the following fields: {\"side_a_name\": \"Actor side A, a party involved in the conflict, which may be a government of a state or an organized non-governmental group.\", \"side_b_name\": \"Actor side B, a party involved in the conflict, which may be a government of a state, an organized non-governmental group, or civilians.\", \"start_date\": \"The earliest likely date when the event has taken place.\", \"end_date\": \"The last likely date when the event has taken place.\", \"location_root_name\": \"The country where the event took place.\", \"location_adm1_name\": \"The region where the event took place.\", \"location_adm2_name\": \"The sub-region where the event took place.\", \"location_where_name\": \"A fine-grained description of the location where the event took place.\", \"deaths_side_a\": \"The best estimate of fatalities in Actor side A.\", \"deaths_side_b\": \"The best estimate of fatalities in Actor side B.\", \"deaths_civilian\": \"Number of civilian fatalities.\", \"deaths_unknown\": \"The best estimate of fatalities of persons of uncertain affiliation.\", \"deaths_low\": \"The most conservative estimate of deaths identified in the source text.\", \"deaths_high\": \"The highest reliable estimate of deaths identified in the source text.\"}. Output the event information as a valid JSON object corresponding to the armed conflict incident described in the following source UCDP document:\"'\n",
    "        test_data['Instruction']= '\"Generate structured event information related to a socio-political conflict in the UCDP event format, based on the content of a source UCDP document. The generated data should include the following fields: {\"side_a_name\": \"Actor side A, a party involved in the conflict, which may be a government of a state or an organized non-governmental group.\", \"side_b_name\": \"Actor side B, a party involved in the conflict, which may be a government of a state, an organized non-governmental group, or civilians.\", \"start_date\": \"The earliest likely date when the event has taken place.\", \"end_date\": \"The last likely date when the event has taken place.\", \"location_root_name\": \"The country where the event took place.\", \"location_adm1_name\": \"The region where the event took place.\", \"location_adm2_name\": \"The sub-region where the event took place.\", \"location_where_name\": \"A fine-grained description of the location where the event took place.\", \"deaths_side_a\": \"The best estimate of fatalities in Actor side A.\", \"deaths_side_b\": \"The best estimate of fatalities in Actor side B.\", \"deaths_civilian\": \"Number of civilian fatalities.\", \"deaths_unknown\": \"The best estimate of fatalities of persons of uncertain affiliation.\", \"deaths_low\": \"The most conservative estimate of deaths identified in the source text.\", \"deaths_high\": \"The highest reliable estimate of deaths identified in the source text.\"}. Output the event information as a valid JSON object corresponding to the armed conflict incident described in the following source UCDP document:\"'\n",
    "    \n",
    "    \n",
    "    return train_data, val_data, test_data\n",
    "    "
   ]
  },
  {
   "cell_type": "code",
   "execution_count": 50,
   "id": "24c8e60b-4d6e-4abb-a947-63c0fe26e5eb",
   "metadata": {},
   "outputs": [],
   "source": [
    "def add_ouput(_data):\n",
    "    selected_columns = [\"side_a_name\", \"side_b_name\", \"start_date\", \"end_date\",  \"location_root_name\", \"location_adm1_name\", \"location_adm2_name\", \"location_where_name\", \"deaths_side_a\", \"deaths_side_b\", \"deaths_civilian\", \"deaths_unknown\" , \"deaths_low\", \"deaths_high\"] \n",
    "    \n",
    "    Output = []\n",
    "    for index, row in _data[selected_columns].iterrows():\n",
    "        row_json = row.to_json()  # Convert row to JSON\n",
    "        Output.append(row_json) \n",
    "    _data['Output'] = Output\n",
    "    return _data\n",
    "    "
   ]
  },
  {
   "cell_type": "code",
   "execution_count": 28,
   "id": "b53ec159-98df-42ce-920c-f2d293c4322c",
   "metadata": {},
   "outputs": [],
   "source": [
    "# header = [\"id\", \"source_article\", \"Instruction\", \"Output\"]\n",
    "# train_data.to_csv('/Users/anonymous/Downloads/train_data_woi_js.csv', columns = header)\n",
    "# val_data.to_csv('/Users/anonymous/Downloads/val_data_woi_js.csv', columns = header)\n",
    "# test_data.to_csv('/Users/anonymous/Downloads/test_data_woi_js.csv', columns = header)\n"
   ]
  },
  {
   "cell_type": "code",
   "execution_count": 72,
   "id": "5b68cd32-deb3-438c-bb5a-439b6a230825",
   "metadata": {},
   "outputs": [],
   "source": [
    "ins_type = 0\n",
    "path = \"/Users/anonymous/Downloads/UCDP-AEC\"\n",
    "train_data, val_data, test_data = format_add_instruction(path, ins_type)\n",
    "train_data = add_ouput(train_data)\n",
    "val_data = add_ouput(val_data)\n",
    "test_data = add_ouput(test_data)"
   ]
  },
  {
   "cell_type": "code",
   "execution_count": 73,
   "id": "db0ecb97-1754-48ca-a1ca-3eb9375e60b7",
   "metadata": {},
   "outputs": [],
   "source": [
    "def create_json(data_json):\n",
    "    dataset_json = [\n",
    "        {   \"id\": row_dict[\"id\"],\n",
    "            \"instruction\": row_dict[\"Instruction\"],\n",
    "            \"input\": str(row_dict[\"source_date\"])+ \" \"+row_dict[\"source_article\"],\n",
    "            \"output\": row_dict[\"Output\"]\n",
    "        }\n",
    "        for row_dict in data_json.to_dict(orient=\"records\")\n",
    "    ]\n",
    "    return dataset_json"
   ]
  },
  {
   "cell_type": "code",
   "execution_count": 74,
   "id": "a186c40f-80ae-4df1-a0b5-bfc6fc8b4609",
   "metadata": {},
   "outputs": [],
   "source": [
    "train_data_json = create_json(train_data)\n",
    "test_data_json = create_json(test_data)\n",
    "val_data_json = create_json(val_data)"
   ]
  },
  {
   "cell_type": "code",
   "execution_count": 75,
   "id": "e6c599a8-739c-47ba-a86b-1165fe4e4e36",
   "metadata": {},
   "outputs": [
    {
     "data": {
      "text/plain": [
       "{'id': 416729,\n",
       " 'instruction': 'Source UCDP document',\n",
       " 'input': '2021-09-17 00:00:00 Anglophone Separatists Ambush, Kill Many Cameroon Soldiers\\nSoldiers of the Cameroon army also killed three separatist fighters, including a self-proclaimed General.\\nA yet to be determined number of Cameroonian soldiers were killed in an ambush by Anglophone separatists in Ngoketunjia division of the Northwest region.\\nThe soldiers were killed on Thursday, Sept. 16, when their armoured car hit a landmine and burst into flames, killing some of its occupants while some who jumped from the burning vehicle were murdered by separatist fighters.\\nThe military is yet to issue any statement about this incident but separatists have posted videos of the incident on social media and are reporting that their fighters killed about 20 soldiers of the elite military unit of the Cameroonian army known as BIR.\\nIn a separate encounter, three separatist fighters including a self-proclaimed “general” were killed on Wednesday, Sept. 15, by the Cameroon military in Nake Bokoko, a village in Mbonge sub-division of the Mbonge division in the Southwest region.\\nThe three separatists killed were identified as Commander Cross, Emanu Cigar and Gazola. They were killed in their sleep.\\nTwo other separatist combatants who were in the same neighbourhood escaped. Reliable sources in the village say the military raid on the village was a hunt for separatist fighters who have been operating along the Kumba-Mbonge road.\\nThe wives of the two separatists who succeeded in escaping were arrested by the army but were later released.\\nThe Kumba-Mbonge stretch of road in the Southwest region is one of the most dangerous highways in the region as it is infested by suspected separatist fighters who waylay travellers and extort money and valuables from them.\\nThe separatists are said to have imposed themselves as the authority charged with settling issues involving villagers, with inhumane treatment and fines meted on them.\\nVillagers also confirmed the confiscation of their farms, properties, and other important items when caught by Commander Cross violating any of their orders.\\nSupport Our Journalism\\nThere are millions of ordinary people affected by conflict in Africa whose stories are missing in the mainstream media. HumAngle is determined to tell those challenging and under-reported stories, hoping that the people impacted by these conflicts will find the safety and security they deserve.\\nTo ensure that we continue to provide public service coverage, we have a small favour to ask you. We want you to be part of our journalistic endeavour by contributing a token to us.\\nYour donation will further promote a robust, free, and independent media.Donate Here',\n",
       " 'output': '{\"side_a_name\":\"Government of Cameroon\",\"side_b_name\":\"Ambazonia insurgents\",\"start_date\":\"2021-09-15\",\"end_date\":\"2021-09-15\",\"location_root_name\":\"Cameroon\",\"location_adm1_name\":\"South-West region\",\"location_adm2_name\":\"Meme d\\\\u00e9partement\",\"location_where_name\":\"Nake Bongwana village\",\"deaths_side_a\":0,\"deaths_side_b\":3,\"deaths_civilian\":0,\"deaths_unknown\":0,\"deaths_low\":3,\"deaths_high\":3}'}"
      ]
     },
     "execution_count": 75,
     "metadata": {},
     "output_type": "execute_result"
    }
   ],
   "source": [
    "val_data_json[1]"
   ]
  },
  {
   "cell_type": "code",
   "execution_count": 76,
   "id": "a85aa50c-58e6-4ceb-8c27-1544647d28e3",
   "metadata": {},
   "outputs": [],
   "source": [
    "with open(\"train_data_json_prompt\"+str(ins_type)+\".json\", \"w\") as f:\n",
    "    json.dump(train_data_json, f)\n",
    "with open(\"test_data_json_prompt\"+str(ins_type)+\".json\", \"w\") as f:\n",
    "    json.dump(test_data_json, f)\n",
    "with open(\"val_data_json_prompt\"+str(ins_type)+\".json\", \"w\") as f:\n",
    "    json.dump(val_data_json, f)"
   ]
  },
  {
   "cell_type": "code",
   "execution_count": null,
   "id": "c16a2b9b-978e-4b16-a3cb-a5667b4fea05",
   "metadata": {},
   "outputs": [],
   "source": []
  }
 ],
 "metadata": {
  "kernelspec": {
   "display_name": "Python 3 (ipykernel)",
   "language": "python",
   "name": "python3"
  },
  "language_info": {
   "codemirror_mode": {
    "name": "ipython",
    "version": 3
   },
   "file_extension": ".py",
   "mimetype": "text/x-python",
   "name": "python",
   "nbconvert_exporter": "python",
   "pygments_lexer": "ipython3",
   "version": "3.12.9"
  }
 },
 "nbformat": 4,
 "nbformat_minor": 5
}

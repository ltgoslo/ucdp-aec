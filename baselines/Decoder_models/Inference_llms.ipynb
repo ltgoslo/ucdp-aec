{
 "cells": [
  {
   "cell_type": "code",
   "execution_count": null,
   "id": "d54d056e-1e7c-4cf5-ac36-e5f2cb8e7675",
   "metadata": {},
   "outputs": [],
   "source": [
    "from unsloth import FastLanguageModel\n",
    "import torch\n",
    "import pandas as pd \n",
    "import re\n",
    "import json\n",
    "max_seq_length = 2048 \n",
    "dtype = torch.float16\n",
    "load_in_4bit = False \n"
   ]
  },
  {
   "cell_type": "code",
   "execution_count": null,
   "id": "bfb56038-f8b4-4d5c-929d-eb3930c67bfa",
   "metadata": {},
   "outputs": [],
   "source": [
    "from unsloth import FastLanguageModel\n",
    "model, tokenizer = FastLanguageModel.from_pretrained(\n",
    "    model_name = \"/cluster/work/users/anonymous/NProStrt_2_Llama-3.2-1B_128\", # YOUR MODEL YOU USED FOR TRAINING\n",
    "    max_seq_length = max_seq_length,\n",
    "    dtype = dtype,\n",
    "    load_in_4bit = False,\n",
    ")\n",
    "FastLanguageModel.for_inference(model)"
   ]
  },
  {
   "cell_type": "code",
   "execution_count": null,
   "id": "07b9206e-6fb7-4b4c-b925-ea4859343f7b",
   "metadata": {},
   "outputs": [],
   "source": [
    "alpaca_prompt = \"\"\"\n",
    "### Instruction:\n",
    "{}\n",
    "\n",
    "### Input:\n",
    "{}\n",
    "\n",
    "### Response:\n",
    "{}\"\"\"\n",
    "\n",
    "\n",
    "\n",
    "inputss = tokenizer(\n",
    "[\n",
    "    alpaca_prompt.format(\n",
    "        \"Extract the information in JSONL format for the following source_text:\", # instruction\n",
    "        \"Al-Hawl camp | Two women killed in south-eastern Al-Hasakah countryside SOHR sources have reported a new murder took place in Al-Hawl “mini-state” in the far south-eastern countryside of Al-Hasakah, when a displaced Syrian woman and unidentified woman were killed. According to SOHR sources, Internal Security Forces “Asayish” found the body of two women in the third section of the camp. This comes in light of ongoing attacks carried out by ISIS cells in Al-Hawl camp, which houses ISIS families and members. Accordingly, the number of murders documented in the camp since early 2022 has risen to 19, which left 20 people dead; and they are as follows: • Six Iraqi refugees, including two women. • Seven Syrian people: Two men and five women. • Six unidentified women. • A medic was killed in the post where he worked in the camp.\", # input\n",
    "        \"\", # output - leave this blank for generation!\n",
    "    )\n",
    "], return_tensors = \"pt\").to(\"cuda\")"
   ]
  },
  {
   "cell_type": "code",
   "execution_count": null,
   "id": "3060ea0b-fbed-4e0b-ac00-1b55364d1c0c",
   "metadata": {},
   "outputs": [],
   "source": [
    "dataFrame = pd.read_json(\"/cluster/work/users/anonymous/new_jsons_prompt/test_data_json_prompt2.json\")\n",
    "list_out = []\n",
    "for index, row in dataFrame.iterrows():\n",
    "    inputs = tokenizer(\n",
    "    [\n",
    "        alpaca_prompt.format(\n",
    "            str(row['instruction']), # instruction\n",
    "            str(row['input'][0:2000]), # input\n",
    "            \"\", # output - leave this blank for generation!\n",
    "        )\n",
    "    ], return_tensors = \"pt\").to(\"cuda\")\n",
    "\n",
    "    outputs = model.generate(**inputs, max_new_tokens = 200, use_cache = True)\n",
    "    response_text = tokenizer.batch_decode(outputs)\n",
    "    list_out.append(\"id: \"+str(row['id'])+\" \"+ \"\".join( response_text))\n",
    "    print(\"id: \"+str(row['id'])+\" \"+ \"\".join( response_text))\n",
    "print(list_out[0])\n",
    "with open('output_NProStrt_2_Llama-3.2-1B_128.txt', 'w') as f:\n",
    "    for line in list_out:\n",
    "        f.write(f\"{line}\\n\\t\")"
   ]
  }
 ],
 "metadata": {
  "kernelspec": {
   "display_name": "Python 3 (ipykernel)",
   "language": "python",
   "name": "python3"
  },
  "language_info": {
   "codemirror_mode": {
    "name": "ipython",
    "version": 3
   },
   "file_extension": ".py",
   "mimetype": "text/x-python",
   "name": "python",
   "nbconvert_exporter": "python",
   "pygments_lexer": "ipython3",
   "version": "3.12.9"
  }
 },
 "nbformat": 4,
 "nbformat_minor": 5
}

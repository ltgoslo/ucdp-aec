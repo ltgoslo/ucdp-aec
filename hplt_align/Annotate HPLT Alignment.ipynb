{
 "cells": [
  {
   "cell_type": "markdown",
   "id": "295e2da7-45f4-4343-b2ec-75a07d137dcb",
   "metadata": {},
   "source": [
    "# Annotate HPLT Alignment\n",
    "\n",
    "Small notebook to compare original UCDP documents to the one found in HPLT."
   ]
  },
  {
   "cell_type": "code",
   "id": "77ed1585-50cd-46ff-98de-7e4fbdb72c87",
   "metadata": {
    "jupyter": {
     "source_hidden": true
    },
    "ExecuteTime": {
     "end_time": "2025-02-14T11:40:17.917514Z",
     "start_time": "2025-02-14T11:40:17.834103Z"
    }
   },
   "source": [
    "%gui asyncio\n",
    "\n",
    "from __future__ import annotations\n",
    "from typing import Any\n",
    "import html\n",
    "import json\n",
    "import pathlib\n",
    "import random\n",
    "import subprocess\n",
    "import tempfile\n",
    "import urllib\n",
    "\n",
    "from IPython.display import DisplayHandle, display, update_display\n",
    "import ipywidgets as widgets"
   ],
   "outputs": [],
   "execution_count": 1
  },
  {
   "cell_type": "code",
   "id": "4a9920eb-9c02-4a01-a7a1-9b4225568341",
   "metadata": {
    "jupyter": {
     "source_hidden": true
    },
    "ExecuteTime": {
     "end_time": "2025-02-14T11:40:25.207085Z",
     "start_time": "2025-02-14T11:40:25.200943Z"
    }
   },
   "source": [
    "DATA_PATH = \"https://recurrent.network/AEC/annotate-me.jsonl\"\n",
    "ANNOTATIONS_PATH = pathlib.Path(\"./align_annotations.jsonl\")"
   ],
   "outputs": [],
   "execution_count": 2
  },
  {
   "cell_type": "markdown",
   "id": "00714869-a452-4963-a002-87f99fdf6714",
   "metadata": {},
   "source": [
    "##### Data Loading"
   ]
  },
  {
   "cell_type": "code",
   "id": "92854922-b2b2-48bc-a2d3-c784dec04bb2",
   "metadata": {
    "jupyter": {
     "source_hidden": true
    },
    "ExecuteTime": {
     "end_time": "2025-02-14T11:40:32.126357Z",
     "start_time": "2025-02-14T11:40:28.190297Z"
    }
   },
   "source": [
    "print(\"(it'll take a minute or two) Retrieving the dataset… \", flush=True, end=\"\")\n",
    "dataset: dict[int, dict[str, Any]] = {}\n",
    "with urllib.request.urlopen(DATA_PATH) as data_file:\n",
    "    for line in data_file:\n",
    "        sample = json.loads(line)\n",
    "        dataset[sample[\"id\"]] = sample\n",
    "print(\"done\")"
   ],
   "outputs": [
    {
     "name": "stdout",
     "output_type": "stream",
     "text": [
      "(it'll take a minute or two) Retrieving the dataset… done\n"
     ]
    }
   ],
   "execution_count": 3
  },
  {
   "cell_type": "markdown",
   "id": "9c030cde-f568-4c40-a8b6-7fa113204562",
   "metadata": {},
   "source": [
    "## Annotations"
   ]
  },
  {
   "cell_type": "code",
   "id": "affa7a2e-abf5-49e0-81ea-f8939aad22d5",
   "metadata": {
    "jupyter": {
     "source_hidden": true
    },
    "ExecuteTime": {
     "end_time": "2025-02-14T11:40:47.350351Z",
     "start_time": "2025-02-14T11:40:47.306513Z"
    }
   },
   "source": [
    "class Annotator:\n",
    "    def __init__(self: Annotator) -> None:\n",
    "        self.handle: DisplayHandle = display(widgets.HTML(\"<p>Loading…</p>\"), display_id=True)\n",
    "        self.display_annotator_name_form()\n",
    "        self.init_display_buttons()\n",
    "\n",
    "    def read_annotations(self: Annotator) -> None:\n",
    "        self.annotations: dict[int, dict[str, Any]] = {}\n",
    "        try:\n",
    "            with ANNOTATIONS_PATH.open(\"r\") as file:\n",
    "                for line in file:\n",
    "                    annotation: dict[str, Any] = json.loads(line)\n",
    "                    self.annotations[annotation[\"id\"]] = annotation\n",
    "        except FileNotFoundError:\n",
    "            raise RuntimeError(\"Annotation file empty, that's not normal! Are you runing jupyter from the directory containing the notebook and the annotations?\")\n",
    "\n",
    "    def display_annotator_name_form(self: Annotator) -> None:\n",
    "        self.annotator_name_field = widgets.Text(placeholder=\"Your name\")\n",
    "        button = widgets.Button(description=\"Start\")\n",
    "        button.on_click(self.start_annotating)\n",
    "        self.read_annotations()\n",
    "        self.handle.update(widgets.VBox([\n",
    "            widgets.HTML(f\"Annotation file {ANNOTATIONS_PATH} contains {len(self.annotations)} annotation{'s' if len(self.annotations)>1 else ''}. Don't forget to push.\"),\n",
    "            widgets.HBox([widgets.HTML(\"Annotator's name: \"), self.annotator_name_field, button])\n",
    "        ]))\n",
    "\n",
    "    def start_annotating(self: Annotator, _: widgets.Button) -> None:\n",
    "        self.handle.update(widgets.HTML(\"<p>Loading sample…</p>\"))\n",
    "        self.annotator_name: str = self.annotator_name_field.value\n",
    "        self.to_annotate: None | int = None\n",
    "        self.next_sample()\n",
    "\n",
    "    def init_display_buttons(self: Annotator) -> None:\n",
    "        self.actor_checkbox = widgets.widgets.Checkbox(value=False, description=\"Wrong Actor\")\n",
    "        self.date_checkbox = widgets.widgets.Checkbox(value=False, description=\"Wrong Date\")\n",
    "        self.location_checkbox = widgets.widgets.Checkbox(value=False, description=\"Wrong Location\")\n",
    "        self.deaths_checkbox = widgets.widgets.Checkbox(value=False, description=\"Wrong Deaths\")\n",
    "        self.correct_button = widgets.Button(description=\"Similar Documents\", layout=widgets.Layout(width=\"250px\"))\n",
    "        self.mismatch_button = widgets.Button(description=\"Completly Different\", layout=widgets.Layout(width=\"250px\"))\n",
    "        self.comment_box = widgets.Text(placeholder=\"Comments\")\n",
    "\n",
    "        self.correct_button.on_click(self.on_click)\n",
    "        self.mismatch_button.on_click(self.on_click)\n",
    "        self.annotation_buttons = widgets.HBox([self.actor_checkbox, self.date_checkbox, self.location_checkbox, self.deaths_checkbox, self.correct_button, self.mismatch_button, self.comment_box])\n",
    "\n",
    "    def on_click(self: Annotator, target: widgets.Button) -> None:\n",
    "        similar = None\n",
    "        if target is self.correct_button:\n",
    "            similar = True\n",
    "        elif target is self.mismatch_button:\n",
    "            similar = False\n",
    "\n",
    "        annotation: dict[str, Any] = {\n",
    "                \"annotator\": self.annotator_name,\n",
    "                \"id\": self.to_annotate,\n",
    "                \"similar\": similar,\n",
    "                \"wrong_actor\": self.actor_checkbox.value,\n",
    "                \"wrong_date\": self.date_checkbox.value,\n",
    "                \"wrong_location\": self.location_checkbox.value,\n",
    "                \"wrong_deaths\": self.deaths_checkbox.value,\n",
    "                \"comments\": self.comment_box.value,\n",
    "            }        \n",
    "        with ANNOTATIONS_PATH.open(\"a\") as annotation_file:\n",
    "            print(json.dumps(annotation), file=annotation_file)\n",
    "        self.annotations[self.to_annotate] = annotation\n",
    "        \n",
    "        self.actor_checkbox.value = False\n",
    "        self.date_checkbox.value = False\n",
    "        self.location_checkbox.value = False\n",
    "        self.deaths_checkbox.value = False\n",
    "        self.comment_box.value = \"\"\n",
    "        self.next_sample()\n",
    "\n",
    "    def next_sample(self: Annotator) -> None:\n",
    "        self.read_annotations()\n",
    "        candidates: set[int] = set(dataset.keys()) - self.annotations.keys()\n",
    "        self.to_annotate: int = random.choice(tuple(candidates))\n",
    "        sample: dict[str, Any] = dataset[self.to_annotate]\n",
    "        \n",
    "        ucdp_path = tempfile.NamedTemporaryFile()\n",
    "        hplt_path = tempfile.NamedTemporaryFile()\n",
    "        with tempfile.NamedTemporaryFile(delete_on_close=False, mode=\"w\") as ucdp_file, tempfile.NamedTemporaryFile(delete_on_close=False, mode=\"w\") as hplt_file:\n",
    "            print(sample[\"source_date\"], file=ucdp_file, end=\"\\n\")\n",
    "            print(sample[\"source_article_ucdp\"], file=ucdp_file, end=\"\")\n",
    "            print(sample[\"source_date\"], file=hplt_file, end=\"\\n\")\n",
    "            print(sample[\"source_article\"], file=hplt_file, end=\"\")\n",
    "            ucdp_file.close()\n",
    "            hplt_file.close()\n",
    "            result = subprocess.run([\"git\", \"diff\", \"--word-diff=porcelain\", ucdp_file.name, hplt_file.name], stdout=subprocess.PIPE, encoding=\"utf-8\")\n",
    "    \n",
    "        differences: list[tuple[str, str]] = []\n",
    "        header: bool = True\n",
    "        for line in result.stdout.split('\\n'):\n",
    "            if header:\n",
    "                if line and line[0] == \"@\":\n",
    "                    header = False\n",
    "                continue\n",
    "            if not line:\n",
    "                continue\n",
    "            if line[0] == \"~\":\n",
    "                differences.append((\" \", \"<br>\"))\n",
    "            else:\n",
    "                text = html.escape(line[1:]).replace('$', \"&dollar;\")\n",
    "                if line[0] == \"+\":\n",
    "                    text = f\"<ins>{text}</ins>\"\n",
    "                elif line[0] == \"-\":\n",
    "                    text = f\"<del>{text}</del>\"\n",
    "                differences.append((line[0], text))\n",
    "        merged_diff: str = \"\".join(text for state, text in differences)\n",
    "        ucdp_diff: str = \"\".join(text for state, text in differences if state != '+')\n",
    "        hplt_diff: str = \"\".join(text for state, text in differences if state != '-')\n",
    "        \n",
    "        html_diff = f\"\"\"\n",
    "            <section>\n",
    "            <h3>Event #{self.to_annotate}</h3>\n",
    "            <style>\n",
    "                ins {{ background-color: #afa; text-decoration: none; }}\n",
    "                del {{ background-color: #fcc; text-decoration: none; }}\n",
    "                table.diff {{ width: 100%; }}\n",
    "                td, th {{ width: 50%; text-align: start !important; vertical-align: top !important; }}\n",
    "            </style>\n",
    "    \n",
    "            <section>\n",
    "                <h4>Merged Diff</h4>\n",
    "                <p>{merged_diff}</p>\n",
    "            </section>\n",
    "            <section>\n",
    "                <h4>Split Diff</h4>\n",
    "                <table class=\"\">\n",
    "                    <tr><th>UCDP</th><th>HPLT</th></tr>\n",
    "                    <tr><td>{ucdp_diff}</td><td>{hplt_diff}</td></tr>\n",
    "                </table>\n",
    "            </section>\n",
    "            <section>\n",
    "                <h4>UCDP Event Annotations</h4>\n",
    "                <table>\n",
    "                    <tr><th>Side A</th><td>{sample['side_a_name']}</td></tr>\n",
    "                    <tr><th>Side B</th><td>{sample['side_b_name']}</td></tr>\n",
    "                    <tr><th>Start Date</th><td>{sample['start_date']}</td></tr>\n",
    "                    <tr><th>End Date</th><td>{sample['end_date']}</td></tr>\n",
    "                    <tr><th>Location Country</th><td>{sample['location_root_name']}</td></tr>\n",
    "                    <tr><th>Location ADM1</th><td>{sample['location_adm1_name']}</td></tr>\n",
    "                    <tr><th>Location ADM2</th><td>{sample['location_adm2_name']}</td></tr>\n",
    "                    <tr><th>Location Where</th><td>{sample['location_where_name']}</td></tr>\n",
    "                    <tr><th>Deaths Side A</th><td>{sample['deaths_side_a']}</td></tr>\n",
    "                    <tr><th>Deaths Side B</th><td>{sample['deaths_side_b']}</td></tr>\n",
    "                    <tr><th>Deaths Civilian</th><td>{sample['deaths_civilian']}</td></tr>\n",
    "                    <tr><th>Deaths Unknown</th><td>{sample['deaths_unknown']}</td></tr>\n",
    "                    <tr><th>Deaths Low</th><td>{sample['deaths_low']}</td></tr>\n",
    "                    <tr><th>Deaths High</th><td>{sample['deaths_high']}</td></tr>\n",
    "                </table>\n",
    "            </section>\n",
    "            </section>\n",
    "            \"\"\"\n",
    "        self.handle.update(widgets.VBox([widgets.HTML(html_diff), self.annotation_buttons]))"
   ],
   "outputs": [],
   "execution_count": 4
  },
  {
   "cell_type": "markdown",
   "id": "24821340-b450-461a-88d1-70a68c3852db",
   "metadata": {},
   "source": [
    "### Procedure\n",
    "\n",
    "If the articles are somewhat similar, but some pieces of information are missing or are wrong, check the boxes corresponding to the information that is wrong/missing:\n",
    "- Who (actors) \n",
    "- When (date)\n",
    "- Where (location)\n",
    "- What (number of deaths)\n",
    "If the articles are completly different, you can click \"Completly Different\" without selecting the checkboxes.\n",
    "If the articles are the same you can click \"Similar Documents\".\n",
    "\n",
    "If it's a complicated case you'd like to discuss, write a comment and post a message on Mattermost.\n",
    "\n",
    "**Don't forget to commit the `align_annotations.jsonl` file every once in a while.** It's saved and re-read after every annotation you do."
   ]
  },
  {
   "cell_type": "code",
   "id": "75f222af-33d5-41b8-9b7b-d476de57e504",
   "metadata": {
    "jupyter": {
     "source_hidden": true
    },
    "ExecuteTime": {
     "end_time": "2025-02-14T11:40:54.618958Z",
     "start_time": "2025-02-14T11:40:54.558133Z"
    }
   },
   "source": [
    "annotator = Annotator()"
   ],
   "outputs": [
    {
     "data": {
      "text/plain": [
       "VBox(children=(HTML(value='\\n            <section>\\n            <h3>Event #235759</h3>\\n            <style>\\n …"
      ],
      "application/vnd.jupyter.widget-view+json": {
       "version_major": 2,
       "version_minor": 0,
       "model_id": "2e2b5be596e74562aa4e36e131199482"
      }
     },
     "metadata": {},
     "output_type": "display_data"
    }
   ],
   "execution_count": 5
  }
 ],
 "metadata": {
  "kernelspec": {
   "display_name": "Python 3 (ipykernel)",
   "language": "python",
   "name": "python3"
  },
  "language_info": {
   "codemirror_mode": {
    "name": "ipython",
    "version": 3
   },
   "file_extension": ".py",
   "mimetype": "text/x-python",
   "name": "python",
   "nbconvert_exporter": "python",
   "pygments_lexer": "ipython3",
   "version": "3.12.8"
  }
 },
 "nbformat": 4,
 "nbformat_minor": 5
}
